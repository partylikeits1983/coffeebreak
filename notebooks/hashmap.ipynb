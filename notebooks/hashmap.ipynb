{
 "cells": [
  {
   "cell_type": "code",
   "execution_count": 1,
   "id": "military-newsletter",
   "metadata": {},
   "outputs": [],
   "source": [
    "import random as r\n",
    "import string"
   ]
  },
  {
   "cell_type": "code",
   "execution_count": 2,
   "id": "alpha-titanium",
   "metadata": {},
   "outputs": [],
   "source": [
    "#creating and then sorting a map "
   ]
  },
  {
   "cell_type": "code",
   "execution_count": 3,
   "id": "descending-rwanda",
   "metadata": {},
   "outputs": [],
   "source": [
    "def phoneNumber():\n",
    "    import random as r\n",
    "\n",
    "    ph_no = []\n",
    "    ph_no.append(r.randint(6, 9))\n",
    "\n",
    "    for i in range(1, 10):\n",
    "        ph_no.append(r.randint(0, 9))\n",
    "\n",
    "    num = ''\n",
    "\n",
    "    for i in ph_no:\n",
    "        z = str(i)\n",
    "        num = (z + num)\n",
    "\n",
    "    num = int(num)\n",
    "    \n",
    "    return num"
   ]
  },
  {
   "cell_type": "code",
   "execution_count": 4,
   "id": "adverse-chester",
   "metadata": {},
   "outputs": [],
   "source": [
    "def address():\n",
    "    N = 25\n",
    "    address = ''.join(r.choices(string.ascii_uppercase + string.digits, k=N))\n",
    "    return address"
   ]
  },
  {
   "cell_type": "code",
   "execution_count": 5,
   "id": "devoted-kinase",
   "metadata": {},
   "outputs": [],
   "source": [
    "def random():\n",
    "    random = r.randint(0, n)\n",
    "    return random"
   ]
  },
  {
   "cell_type": "code",
   "execution_count": null,
   "id": "governing-above",
   "metadata": {},
   "outputs": [],
   "source": []
  },
  {
   "cell_type": "code",
   "execution_count": 6,
   "id": "southwest-event",
   "metadata": {},
   "outputs": [],
   "source": [
    "hashmap = {}\n",
    "\n",
    "n = 10\n",
    "\n",
    "for i in range(0, n):\n",
    "    x = address()\n",
    "    y = phoneNumber()\n",
    "    z = random()\n",
    "    \n",
    "    hashmap[x] = [y, z]\n",
    "    \n",
    "    "
   ]
  },
  {
   "cell_type": "code",
   "execution_count": 7,
   "id": "straight-brazilian",
   "metadata": {},
   "outputs": [
    {
     "data": {
      "text/plain": [
       "{'0CELB0RFFFF66LSMCKYGVCVC1': [2547556918, 3],\n",
       " 'VPQWGUFLADTCGAWYNH5NHBT2J': [1538181749, 2],\n",
       " '5MHI1DYV7UL3MEUATYNNXE9E7': [8447054828, 6],\n",
       " 'LZMXPB232ZE8JHQ38JU05XVBQ': [7706544117, 8],\n",
       " 'D9E5EMUISJG52B6BB4BEXZQ6J': [8340130738, 2],\n",
       " 'FDIM1YUG0BZD83SJD6X6W43R0': [1887023619, 5],\n",
       " 'R08O6D6OCHZY5RO7111WS3X4N': [582482138, 5],\n",
       " '266TOEEDXAXBNXSUF4E56F2H7': [4327183978, 8],\n",
       " '1VUJTT5NNX3GCWFQZN6MSY12C': [2952238826, 1],\n",
       " 'TVYBVRBIBX222MCAF28WFZKFM': [8112999637, 2]}"
      ]
     },
     "execution_count": 7,
     "metadata": {},
     "output_type": "execute_result"
    }
   ],
   "source": [
    "hashmap"
   ]
  },
  {
   "cell_type": "code",
   "execution_count": null,
   "id": "bizarre-performance",
   "metadata": {},
   "outputs": [],
   "source": []
  },
  {
   "cell_type": "code",
   "execution_count": 8,
   "id": "julian-decline",
   "metadata": {},
   "outputs": [
    {
     "data": {
      "text/plain": [
       "'0CELB0RFFFF66LSMCKYGVCVC1'"
      ]
     },
     "execution_count": 8,
     "metadata": {},
     "output_type": "execute_result"
    }
   ],
   "source": [
    "list(hashmap.keys())[0]"
   ]
  },
  {
   "cell_type": "code",
   "execution_count": null,
   "id": "outside-relations",
   "metadata": {},
   "outputs": [],
   "source": []
  },
  {
   "cell_type": "code",
   "execution_count": 9,
   "id": "wired-gates",
   "metadata": {},
   "outputs": [],
   "source": [
    "x = list(hashmap.keys())[0]"
   ]
  },
  {
   "cell_type": "code",
   "execution_count": 10,
   "id": "hungarian-somalia",
   "metadata": {},
   "outputs": [],
   "source": [
    "y = hashmap[x]"
   ]
  },
  {
   "cell_type": "code",
   "execution_count": 11,
   "id": "allied-corporation",
   "metadata": {},
   "outputs": [
    {
     "data": {
      "text/plain": [
       "3"
      ]
     },
     "execution_count": 11,
     "metadata": {},
     "output_type": "execute_result"
    }
   ],
   "source": [
    "y[-1]"
   ]
  },
  {
   "cell_type": "code",
   "execution_count": 12,
   "id": "conceptual-mexican",
   "metadata": {},
   "outputs": [
    {
     "name": "stdout",
     "output_type": "stream",
     "text": [
      "LZMXPB232ZE8JHQ38JU05XVBQ [7706544117, 8]\n",
      "266TOEEDXAXBNXSUF4E56F2H7 [4327183978, 8]\n",
      "5MHI1DYV7UL3MEUATYNNXE9E7 [8447054828, 6]\n",
      "FDIM1YUG0BZD83SJD6X6W43R0 [1887023619, 5]\n",
      "R08O6D6OCHZY5RO7111WS3X4N [582482138, 5]\n",
      "0CELB0RFFFF66LSMCKYGVCVC1 [2547556918, 3]\n",
      "VPQWGUFLADTCGAWYNH5NHBT2J [1538181749, 2]\n",
      "D9E5EMUISJG52B6BB4BEXZQ6J [8340130738, 2]\n",
      "TVYBVRBIBX222MCAF28WFZKFM [8112999637, 2]\n",
      "1VUJTT5NNX3GCWFQZN6MSY12C [2952238826, 1]\n"
     ]
    }
   ],
   "source": [
    "sort = sorted(hashmap.items(), key=lambda x: x[1][-1], reverse=True)\n",
    "\n",
    "for i in sort:\n",
    "    print(i[0], i[1])\n"
   ]
  },
  {
   "cell_type": "code",
   "execution_count": null,
   "id": "chemical-termination",
   "metadata": {},
   "outputs": [],
   "source": []
  }
 ],
 "metadata": {
  "kernelspec": {
   "display_name": "Python 3",
   "language": "python",
   "name": "python3"
  },
  "language_info": {
   "codemirror_mode": {
    "name": "ipython",
    "version": 3
   },
   "file_extension": ".py",
   "mimetype": "text/x-python",
   "name": "python",
   "nbconvert_exporter": "python",
   "pygments_lexer": "ipython3",
   "version": "3.9.2"
  }
 },
 "nbformat": 4,
 "nbformat_minor": 5
}

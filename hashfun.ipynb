{
 "cells": [
  {
   "cell_type": "markdown",
   "id": "16643e43",
   "metadata": {},
   "source": [
    "## Fun with lists and hashes "
   ]
  },
  {
   "cell_type": "code",
   "execution_count": 336,
   "id": "e2e6acc2",
   "metadata": {},
   "outputs": [],
   "source": [
    "values = {}"
   ]
  },
  {
   "cell_type": "code",
   "execution_count": 337,
   "id": "56c2ff46",
   "metadata": {},
   "outputs": [
    {
     "data": {
      "text/plain": [
       "{}"
      ]
     },
     "execution_count": 337,
     "metadata": {},
     "output_type": "execute_result"
    }
   ],
   "source": [
    "values"
   ]
  },
  {
   "cell_type": "code",
   "execution_count": 338,
   "id": "90cc2bd0",
   "metadata": {},
   "outputs": [],
   "source": [
    "for x in range(-5,5):\n",
    "    \n",
    "    y = x**2\n",
    "    \n",
    "    values[x] = y"
   ]
  },
  {
   "cell_type": "code",
   "execution_count": 339,
   "id": "ee2da424",
   "metadata": {},
   "outputs": [
    {
     "data": {
      "text/plain": [
       "{-5: 25, -4: 16, -3: 9, -2: 4, -1: 1, 0: 0, 1: 1, 2: 4, 3: 9, 4: 16}"
      ]
     },
     "execution_count": 339,
     "metadata": {},
     "output_type": "execute_result"
    }
   ],
   "source": [
    "values"
   ]
  },
  {
   "cell_type": "code",
   "execution_count": null,
   "id": "a7071e96",
   "metadata": {},
   "outputs": [],
   "source": []
  },
  {
   "cell_type": "code",
   "execution_count": 341,
   "id": "d59d9660",
   "metadata": {},
   "outputs": [],
   "source": [
    "x = \"hello\" + \"2\""
   ]
  },
  {
   "cell_type": "code",
   "execution_count": 342,
   "id": "f86371a7",
   "metadata": {},
   "outputs": [],
   "source": [
    "y  = hash(x)"
   ]
  },
  {
   "cell_type": "code",
   "execution_count": 343,
   "id": "01498e90",
   "metadata": {},
   "outputs": [],
   "source": [
    "x += str(y)"
   ]
  },
  {
   "cell_type": "code",
   "execution_count": 344,
   "id": "564fe4de",
   "metadata": {},
   "outputs": [
    {
     "name": "stdout",
     "output_type": "stream",
     "text": [
      "hello2-432946930089909245\n"
     ]
    }
   ],
   "source": [
    "print(x)"
   ]
  },
  {
   "cell_type": "code",
   "execution_count": 345,
   "id": "16510be8",
   "metadata": {},
   "outputs": [
    {
     "name": "stdout",
     "output_type": "stream",
     "text": [
      "-5438998405520753283\n"
     ]
    }
   ],
   "source": [
    "print(hash(x))"
   ]
  },
  {
   "cell_type": "code",
   "execution_count": null,
   "id": "5c325cdd",
   "metadata": {},
   "outputs": [],
   "source": []
  },
  {
   "cell_type": "code",
   "execution_count": null,
   "id": "f8d13ae8",
   "metadata": {},
   "outputs": [],
   "source": []
  },
  {
   "cell_type": "code",
   "execution_count": null,
   "id": "034bdc44",
   "metadata": {},
   "outputs": [],
   "source": []
  },
  {
   "cell_type": "code",
   "execution_count": 346,
   "id": "88bf8b32",
   "metadata": {
    "scrolled": true
   },
   "outputs": [
    {
     "name": "stdout",
     "output_type": "stream",
     "text": [
      "-2\n",
      "0\n",
      "1\n",
      "2\n",
      "3\n",
      "4\n",
      "5\n",
      "6\n",
      "7\n",
      "8\n"
     ]
    }
   ],
   "source": [
    "for i in range(10):\n",
    "    \n",
    "    y = hash(i) - 1\n",
    "    x = hash(y)\n",
    "    print(x)"
   ]
  },
  {
   "cell_type": "code",
   "execution_count": null,
   "id": "2470b4b2",
   "metadata": {},
   "outputs": [],
   "source": []
  },
  {
   "cell_type": "code",
   "execution_count": 347,
   "id": "17076c00",
   "metadata": {},
   "outputs": [],
   "source": [
    "import hashlib"
   ]
  },
  {
   "cell_type": "code",
   "execution_count": 348,
   "id": "8a0943f7",
   "metadata": {},
   "outputs": [
    {
     "name": "stdout",
     "output_type": "stream",
     "text": [
      "2cf24dba5fb0a30e26e83b2ac5b9e29e1b161e5c1fa7425e73043362938b9824\n"
     ]
    }
   ],
   "source": [
    "\n",
    "x = 'hello'\n",
    "m = hashlib.sha256()\n",
    "y = bytes(x, 'utf-8')\n",
    "target = hashlib.sha256(y).hexdigest()\n",
    "print(target)"
   ]
  },
  {
   "cell_type": "code",
   "execution_count": null,
   "id": "66ae56c1",
   "metadata": {},
   "outputs": [],
   "source": []
  },
  {
   "cell_type": "code",
   "execution_count": null,
   "id": "d9b34fbb",
   "metadata": {},
   "outputs": [],
   "source": []
  },
  {
   "cell_type": "code",
   "execution_count": null,
   "id": "2428f201",
   "metadata": {},
   "outputs": [],
   "source": []
  },
  {
   "cell_type": "code",
   "execution_count": 349,
   "id": "5482a589",
   "metadata": {},
   "outputs": [],
   "source": [
    "from string import ascii_lowercase"
   ]
  },
  {
   "cell_type": "code",
   "execution_count": 350,
   "id": "4a5e71aa",
   "metadata": {},
   "outputs": [],
   "source": [
    "for i in ascii_lowercase:\n",
    "    \n",
    "    y = bytes(i, 'utf-8')\n",
    "    tar = hashlib.sha256(y).hexdigest()\n",
    "    "
   ]
  },
  {
   "cell_type": "code",
   "execution_count": null,
   "id": "febb65c3",
   "metadata": {},
   "outputs": [],
   "source": []
  },
  {
   "cell_type": "code",
   "execution_count": null,
   "id": "e325eb85",
   "metadata": {},
   "outputs": [],
   "source": []
  },
  {
   "cell_type": "code",
   "execution_count": 351,
   "id": "3a89f3e0",
   "metadata": {},
   "outputs": [],
   "source": [
    "import numpy as np"
   ]
  },
  {
   "cell_type": "code",
   "execution_count": 352,
   "id": "7f84d711",
   "metadata": {},
   "outputs": [
    {
     "data": {
      "text/plain": [
       "array([6, 4, 2, 5, 8, 0, 7, 3, 1])"
      ]
     },
     "execution_count": 352,
     "metadata": {},
     "output_type": "execute_result"
    }
   ],
   "source": [
    "np.random.permutation(9)"
   ]
  },
  {
   "cell_type": "code",
   "execution_count": 353,
   "id": "c75a51cf",
   "metadata": {},
   "outputs": [
    {
     "name": "stdout",
     "output_type": "stream",
     "text": [
      "41023\n"
     ]
    }
   ],
   "source": [
    "array = np.random.permutation(5)\n",
    "\n",
    "strings = [str(i) for i in array]\n",
    "string = \"\".join(strings)\n",
    "\n",
    "print(string)"
   ]
  },
  {
   "cell_type": "code",
   "execution_count": 354,
   "id": "99cb9a23",
   "metadata": {},
   "outputs": [
    {
     "name": "stdout",
     "output_type": "stream",
     "text": [
      "389dad3d3c5d05616effcf492876fbff3064130a9f68fba61a3cfaa3bc6da2dc\n"
     ]
    }
   ],
   "source": [
    "y = bytes(string, 'utf-8')\n",
    "target = hashlib.sha256(y).hexdigest()\n",
    "\n",
    "print(target)"
   ]
  },
  {
   "cell_type": "code",
   "execution_count": null,
   "id": "1a7f3651",
   "metadata": {},
   "outputs": [],
   "source": []
  },
  {
   "cell_type": "code",
   "execution_count": 355,
   "id": "4ba19040",
   "metadata": {},
   "outputs": [],
   "source": [
    "import itertools\n",
    "\n",
    "hashes = []\n",
    "\n",
    "for i in range(100000):\n",
    "    #num = ''.join(i)\n",
    "    num = str(i)\n",
    "    y = bytes(num, \"utf-8\")\n",
    "    tar = hashlib.sha256(y).hexdigest()\n",
    "    hashes.append(tar)\n",
    "    "
   ]
  },
  {
   "cell_type": "code",
   "execution_count": 358,
   "id": "9fd0f7f7",
   "metadata": {},
   "outputs": [],
   "source": [
    "result = target in hashes"
   ]
  },
  {
   "cell_type": "code",
   "execution_count": 359,
   "id": "0585b790",
   "metadata": {},
   "outputs": [
    {
     "name": "stdout",
     "output_type": "stream",
     "text": [
      "True\n"
     ]
    }
   ],
   "source": [
    "print(result)"
   ]
  },
  {
   "cell_type": "code",
   "execution_count": null,
   "id": "64ac5ec8",
   "metadata": {},
   "outputs": [],
   "source": []
  },
  {
   "cell_type": "code",
   "execution_count": null,
   "id": "bfe89824",
   "metadata": {},
   "outputs": [],
   "source": []
  },
  {
   "cell_type": "code",
   "execution_count": 360,
   "id": "eccf407f",
   "metadata": {},
   "outputs": [],
   "source": [
    "nums = []"
   ]
  },
  {
   "cell_type": "code",
   "execution_count": 361,
   "id": "9d9a3a88",
   "metadata": {},
   "outputs": [],
   "source": [
    "for i in itertools.permutations(\"123456789\"):\n",
    "    num = ''.join(i)\n",
    "    nums.append(int(num))"
   ]
  },
  {
   "cell_type": "code",
   "execution_count": 362,
   "id": "df7285ce",
   "metadata": {},
   "outputs": [
    {
     "data": {
      "text/plain": [
       "987654321"
      ]
     },
     "execution_count": 362,
     "metadata": {},
     "output_type": "execute_result"
    }
   ],
   "source": [
    "nums[-1]"
   ]
  },
  {
   "cell_type": "code",
   "execution_count": 363,
   "id": "f8c37492",
   "metadata": {},
   "outputs": [
    {
     "data": {
      "text/plain": [
       "362880"
      ]
     },
     "execution_count": 363,
     "metadata": {},
     "output_type": "execute_result"
    }
   ],
   "source": [
    "len(nums)"
   ]
  },
  {
   "cell_type": "code",
   "execution_count": null,
   "id": "e472f81f",
   "metadata": {},
   "outputs": [],
   "source": []
  },
  {
   "cell_type": "code",
   "execution_count": null,
   "id": "276be48c",
   "metadata": {},
   "outputs": [],
   "source": []
  }
 ],
 "metadata": {
  "kernelspec": {
   "display_name": "Python 3",
   "language": "python",
   "name": "python3"
  },
  "language_info": {
   "codemirror_mode": {
    "name": "ipython",
    "version": 3
   },
   "file_extension": ".py",
   "mimetype": "text/x-python",
   "name": "python",
   "nbconvert_exporter": "python",
   "pygments_lexer": "ipython3",
   "version": "3.8.10"
  }
 },
 "nbformat": 4,
 "nbformat_minor": 5
}

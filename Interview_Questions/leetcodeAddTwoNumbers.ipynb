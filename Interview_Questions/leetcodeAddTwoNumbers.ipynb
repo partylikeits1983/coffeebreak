{
 "cells": [
  {
   "cell_type": "code",
   "execution_count": null,
   "id": "32447b7a",
   "metadata": {},
   "outputs": [],
   "source": [
    "'''\n",
    "\n",
    "Leet code add two numbers\n",
    "\n",
    "Input: l1 = [2,4,3], l2 = [5,6,4]\n",
    "Output: [7,0,8]\n",
    "Explanation: 342 + 465 = 807.\n",
    "\n",
    "\n",
    "'''"
   ]
  },
  {
   "cell_type": "code",
   "execution_count": 1,
   "id": "277ba736",
   "metadata": {},
   "outputs": [
    {
     "name": "stdout",
     "output_type": "stream",
     "text": [
      "5\n"
     ]
    }
   ],
   "source": [
    "l = [1,4,5]\n",
    "print(l[-1])"
   ]
  },
  {
   "cell_type": "code",
   "execution_count": 3,
   "id": "635177ae",
   "metadata": {},
   "outputs": [
    {
     "name": "stdout",
     "output_type": "stream",
     "text": [
      "1\n"
     ]
    }
   ],
   "source": [
    "print(l[-3])"
   ]
  },
  {
   "cell_type": "code",
   "execution_count": 30,
   "id": "464df735",
   "metadata": {},
   "outputs": [
    {
     "name": "stdout",
     "output_type": "stream",
     "text": [
      "111\n",
      "[1, 1, 1]\n"
     ]
    }
   ],
   "source": [
    "l = [1,1,1]\n",
    "n = 1\n",
    "s = ''\n",
    "for i in l:\n",
    "    x = str(l[-n])\n",
    "    s += x\n",
    "    n += 1\n",
    "val = int(s)\n",
    "print(val)\n",
    "print(l)"
   ]
  },
  {
   "cell_type": "code",
   "execution_count": 56,
   "id": "0a38fd89",
   "metadata": {},
   "outputs": [
    {
     "name": "stdout",
     "output_type": "stream",
     "text": [
      "111\n"
     ]
    }
   ],
   "source": [
    "n = 1\n",
    "s = ''\n",
    "for i in l:\n",
    "    x = str(l[-n])\n",
    "    s += x\n",
    "    n += 1\n",
    "\n",
    "print(s)"
   ]
  },
  {
   "cell_type": "code",
   "execution_count": 58,
   "id": "d30b7433",
   "metadata": {},
   "outputs": [
    {
     "name": "stdout",
     "output_type": "stream",
     "text": [
      "1,1,1\n",
      "1,1,1\n"
     ]
    },
    {
     "data": {
      "text/plain": [
       "222"
      ]
     },
     "execution_count": 58,
     "metadata": {},
     "output_type": "execute_result"
    }
   ],
   "source": [
    "# my solution...\n",
    "\n",
    "def L(l):\n",
    "    \n",
    "    n = 1\n",
    "    s = ''\n",
    "    \n",
    "    for i in l:\n",
    "        x = str(l[-n])\n",
    "        s += x\n",
    "        n += 1    \n",
    "    val = int(s)\n",
    "    \n",
    "    return val\n",
    "    \n",
    "def calculate(l1, l2):\n",
    "\n",
    "    a = L(l1)\n",
    "    b = L(l2)\n",
    "    \n",
    "    c = a + b\n",
    "    \n",
    "    return c\n",
    "   \n",
    "    \n",
    "l1 = [int(x) for x in input().split(',')]\n",
    "l2 = [int(x) for x in input().split(',')]\n",
    "\n",
    "\n",
    "calculate(l1, l2)"
   ]
  },
  {
   "cell_type": "code",
   "execution_count": null,
   "id": "fc9a0a8d",
   "metadata": {},
   "outputs": [],
   "source": []
  },
  {
   "cell_type": "code",
   "execution_count": 54,
   "id": "4bcc3658",
   "metadata": {},
   "outputs": [
    {
     "data": {
      "text/plain": [
       "222"
      ]
     },
     "execution_count": 54,
     "metadata": {},
     "output_type": "execute_result"
    }
   ],
   "source": [
    "def addTwoNumbers(l1, l2):\n",
    "    # a \n",
    "    n = 1\n",
    "    s = ''\n",
    "    for i in l1:\n",
    "        x = str(l1[-n])\n",
    "        s += x\n",
    "        n += 1\n",
    "\n",
    "    a = int(s)\n",
    "    \n",
    "    # b\n",
    "    n = 1\n",
    "    s = ''\n",
    "    for i in l2:\n",
    "        x = str(l2[-n])\n",
    "        s += x\n",
    "        n += 1\n",
    "\n",
    "    b = int(s)\n",
    "\n",
    "    # sum of a + b\n",
    "    c = a + b\n",
    "    return c\n",
    "\n",
    "\n",
    "l1 = [1,1,1]\n",
    "l2 = [1,1,1]\n",
    "\n",
    "\n",
    "addTwoNumbers(l1, l2)"
   ]
  },
  {
   "cell_type": "code",
   "execution_count": null,
   "id": "99c59586",
   "metadata": {},
   "outputs": [],
   "source": [
    "# leet code accepted solution...\n",
    "# I'm trying to understand what the function ListNode means/does"
   ]
  },
  {
   "cell_type": "code",
   "execution_count": 53,
   "id": "a36fbd59",
   "metadata": {},
   "outputs": [],
   "source": [
    "class ListNode:\n",
    "    def __init__(self, x):\n",
    "        self.val = x\n",
    "        self.next = None\n",
    "\n",
    "\n",
    "class Solution(object):\n",
    "    def addTwoNumbers(self, l1, l2):\n",
    "        \"\"\"\n",
    "        :type l1: ListNode\n",
    "        :type l2: ListNode\n",
    "        :rtype: ListNode\n",
    "        \"\"\"\n",
    "        dummy = ListNode(0)\n",
    "        current, carry = dummy, 0\n",
    "\n",
    "        while l1 or l2:\n",
    "            val = carry\n",
    "            if l1:\n",
    "                val += l1.val\n",
    "                l1 = l1.next\n",
    "            if l2:\n",
    "                val += l2.val\n",
    "                l2 = l2.next\n",
    "            carry, val = divmod(val, 10)\n",
    "            current.next = ListNode(val)\n",
    "            current = current.next\n",
    "\n",
    "        if carry == 1:\n",
    "            current.next = ListNode(1)\n",
    "\n",
    "        return dummy.next"
   ]
  },
  {
   "cell_type": "code",
   "execution_count": null,
   "id": "512537c2",
   "metadata": {},
   "outputs": [],
   "source": []
  }
 ],
 "metadata": {
  "kernelspec": {
   "display_name": "Python 3 (ipykernel)",
   "language": "python",
   "name": "python3"
  },
  "language_info": {
   "codemirror_mode": {
    "name": "ipython",
    "version": 3
   },
   "file_extension": ".py",
   "mimetype": "text/x-python",
   "name": "python",
   "nbconvert_exporter": "python",
   "pygments_lexer": "ipython3",
   "version": "3.9.7"
  }
 },
 "nbformat": 4,
 "nbformat_minor": 5
}

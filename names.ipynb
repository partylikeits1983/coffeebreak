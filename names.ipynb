{
 "cells": [
  {
   "cell_type": "code",
   "execution_count": null,
   "id": "e11b9b35",
   "metadata": {},
   "outputs": [],
   "source": [
    "\"\"\"\n",
    "Just woke up from a dream.  \n",
    "\n",
    "A very strange dream indeed. \n",
    "\n",
    "I was at a forum where university aged programmers were divided into teams.\n",
    "\n",
    "The goal was to write a program that would extract names from a massive list of potential \n",
    "candidates for a job interview. \n",
    "\n",
    "The organizers told each team explicitly that we should consider using NLP. \n",
    "\n",
    "However, given the nature of the competition, there was a hard set timelimit of 1 hour.\n",
    "\n",
    "and we were not allowed to use any already pretrained NLP models. \n",
    "\n",
    "So the task of writing and then training a NLP model in 1 hour was essentially not possible in the time frame...\n",
    "\n",
    "I realized the organizers said this to throw us off.\n",
    "\n",
    "\n",
    "\n",
    "\n",
    "We were given a small sample text in this format:\n",
    "\n",
    "' \n",
    "John Doe. I am interested in this position as I believe it fits my personality. \n",
    "\n",
    "Johnanthan Smith. The position at company XYZ is an incredible opportunity. I believe I am an excellent \n",
    "candidate as I not only meet the requirements of the position, but I also exceed them. \n",
    "'\n",
    "...\n",
    "\n",
    "n number of more candidates with short motivational letters. \n",
    "\n",
    "Print the names of all the candidates. \n",
    "\n",
    "\n",
    "\n",
    "\n",
    "I was intrigued by this strange problem. \n",
    "\n",
    "Everyone was stumped. \n",
    "\n",
    "With 40 minutes left to go, and everyone still completely lost, I came up with this random solution. \n",
    "\n",
    "I wrote on a white board this graphic:\n",
    "\n",
    "__ __ .   __ __ __ __ .   __ __ __ __ __ . \n",
    " \n",
    "\n",
    "if distance of . to beginning is >= 2: \n",
    "        __ __ must be a proper noun\n",
    "\n",
    "\n",
    "Although my solution doesn't account for the fact there may be a sentence with 3 words...\n",
    "\n",
    "I woke up and immediately wrote the following solution:\n",
    "\n",
    "\"\"\""
   ]
  },
  {
   "cell_type": "code",
   "execution_count": null,
   "id": "7fd6790e",
   "metadata": {},
   "outputs": [],
   "source": []
  },
  {
   "cell_type": "code",
   "execution_count": null,
   "id": "86a7b1da",
   "metadata": {},
   "outputs": [],
   "source": []
  },
  {
   "cell_type": "code",
   "execution_count": 1,
   "id": "b9289ca1",
   "metadata": {},
   "outputs": [],
   "source": [
    "# generate some random candidates and text \n",
    "\n",
    "import names\n",
    "import random\n",
    "\n",
    "\n",
    "nouns = (\"puppy\", \"car\", \"rabbit\", \"girl\", \"monkey\")\n",
    "verbs = (\"runs\", \"hits\", \"jumps\", \"drives\", \"barfs\") \n",
    "adv = (\"crazily.\", \"dutifully.\", \"foolishly.\", \"merrily.\", \"occasionally.\")\n",
    "adj = (\"adorable\", \"clueless\", \"dirty\", \"odd\", \"stupid\")\n",
    "\n",
    "\n",
    "randomCandidates = ''\n",
    "\n",
    "for i in range(20):\n",
    "    name = names.get_full_name()\n",
    "    punc = '. '\n",
    "    fname = name + punc\n",
    "    \n",
    "    num = random.randrange(0,5)\n",
    "    \n",
    "    sentence = 'The ' + adj[num] + ' ' + nouns[num] + ' ' + verbs[num] + ' ' + adv[num] + ' '\n",
    "    \n",
    "    candidate = fname + sentence\n",
    "\n",
    "    randomCandidates += candidate\n",
    "    \n"
   ]
  },
  {
   "cell_type": "code",
   "execution_count": 2,
   "id": "253bef59",
   "metadata": {},
   "outputs": [
    {
     "data": {
      "text/plain": [
       "'Robbie Loos. The adorable puppy runs crazily. John Dominguez. The clueless car hits dutifully. Lisa Holcomb. The odd girl drives merrily. Keith Hauman. The odd girl drives merrily. Amy Medina. The odd girl drives merrily. Keith Rodriguez. The adorable puppy runs crazily. Josephine Nelson. The adorable puppy runs crazily. Laverne Burris. The odd girl drives merrily. Daniel Dunseith. The clueless car hits dutifully. Michael Ly. The clueless car hits dutifully. Cody Dukes. The stupid monkey barfs occasionally. Terrell Laitila. The clueless car hits dutifully. Charles Best. The adorable puppy runs crazily. John Bonk. The stupid monkey barfs occasionally. Joseph Negron. The adorable puppy runs crazily. Antonio Swanger. The dirty rabbit jumps foolishly. Phil Powell. The odd girl drives merrily. Peter Martin. The stupid monkey barfs occasionally. Michael Vant. The odd girl drives merrily. Carmen Mendoza. The adorable puppy runs crazily. '"
      ]
     },
     "execution_count": 2,
     "metadata": {},
     "output_type": "execute_result"
    }
   ],
   "source": [
    "randomCandidates"
   ]
  },
  {
   "cell_type": "code",
   "execution_count": 3,
   "id": "ebae46f1",
   "metadata": {},
   "outputs": [],
   "source": [
    "text1 =\"\"\" John Davis Doe. I am interested in this position as I believe it fits my personality. Johnanthan Smith. The position at company XYZ is an incredible opportunity. I believe I am an excellent candidate as I not only meet the requirements of the position, but I also exceed them. \"\"\""
   ]
  },
  {
   "cell_type": "code",
   "execution_count": 4,
   "id": "5b1bc74b",
   "metadata": {},
   "outputs": [],
   "source": [
    "text = text1 + randomCandidates"
   ]
  },
  {
   "cell_type": "code",
   "execution_count": 5,
   "id": "3c1a3127",
   "metadata": {},
   "outputs": [
    {
     "data": {
      "text/plain": [
       "' John Davis Doe. I am interested in this position as I believe it fits my personality. Johnanthan Smith. The position at company XYZ is an incredible opportunity. I believe I am an excellent candidate as I not only meet the requirements of the position, but I also exceed them. Robbie Loos. The adorable puppy runs crazily. John Dominguez. The clueless car hits dutifully. Lisa Holcomb. The odd girl drives merrily. Keith Hauman. The odd girl drives merrily. Amy Medina. The odd girl drives merrily. Keith Rodriguez. The adorable puppy runs crazily. Josephine Nelson. The adorable puppy runs crazily. Laverne Burris. The odd girl drives merrily. Daniel Dunseith. The clueless car hits dutifully. Michael Ly. The clueless car hits dutifully. Cody Dukes. The stupid monkey barfs occasionally. Terrell Laitila. The clueless car hits dutifully. Charles Best. The adorable puppy runs crazily. John Bonk. The stupid monkey barfs occasionally. Joseph Negron. The adorable puppy runs crazily. Antonio Swanger. The dirty rabbit jumps foolishly. Phil Powell. The odd girl drives merrily. Peter Martin. The stupid monkey barfs occasionally. Michael Vant. The odd girl drives merrily. Carmen Mendoza. The adorable puppy runs crazily. '"
      ]
     },
     "execution_count": 5,
     "metadata": {},
     "output_type": "execute_result"
    }
   ],
   "source": [
    "text"
   ]
  },
  {
   "cell_type": "code",
   "execution_count": null,
   "id": "e6f23ead",
   "metadata": {},
   "outputs": [],
   "source": []
  },
  {
   "cell_type": "code",
   "execution_count": 6,
   "id": "159a0302",
   "metadata": {},
   "outputs": [],
   "source": [
    "# divide and conquer \n",
    "\n",
    "import re\n",
    "\n",
    "punctuation = \"?.!\"\n",
    "split_by_punc =  re.split(\"[%s]\"% punctuation, text)\n",
    "words_by_puct = [len(x.split()) for x in split_by_punc]"
   ]
  },
  {
   "cell_type": "code",
   "execution_count": 7,
   "id": "c1041f40",
   "metadata": {},
   "outputs": [
    {
     "name": "stdout",
     "output_type": "stream",
     "text": [
      "[3, 13, 2, 9, 22, 2, 5, 2, 5, 2, 5, 2, 5, 2, 5, 2, 5, 2, 5, 2, 5, 2, 5, 2, 5, 2, 5, 2, 5, 2, 5, 2, 5, 2, 5, 2, 5, 2, 5, 2, 5, 2, 5, 2, 5, 0]\n"
     ]
    }
   ],
   "source": [
    "print(words_by_puct)"
   ]
  },
  {
   "cell_type": "code",
   "execution_count": 8,
   "id": "d66484e5",
   "metadata": {},
   "outputs": [
    {
     "data": {
      "text/plain": [
       "2"
      ]
     },
     "execution_count": 8,
     "metadata": {},
     "output_type": "execute_result"
    }
   ],
   "source": [
    "words_by_puct.index(2)"
   ]
  },
  {
   "cell_type": "code",
   "execution_count": 9,
   "id": "3920bc6d",
   "metadata": {},
   "outputs": [
    {
     "name": "stdout",
     "output_type": "stream",
     "text": [
      " John Davis Doe\n",
      " Johnanthan Smith\n",
      " Robbie Loos\n",
      " John Dominguez\n",
      " Lisa Holcomb\n",
      " Keith Hauman\n",
      " Amy Medina\n",
      " Keith Rodriguez\n",
      " Josephine Nelson\n",
      " Laverne Burris\n",
      " Daniel Dunseith\n",
      " Michael Ly\n",
      " Cody Dukes\n",
      " Terrell Laitila\n",
      " Charles Best\n",
      " John Bonk\n",
      " Joseph Negron\n",
      " Antonio Swanger\n",
      " Phil Powell\n",
      " Peter Martin\n",
      " Michael Vant\n",
      " Carmen Mendoza\n"
     ]
    }
   ],
   "source": [
    "n = 0\n",
    "\n",
    "\n",
    "for i in words_by_puct:\n",
    "\n",
    "    if i == 2:\n",
    "        \n",
    "        print(split_by_punc[n])\n",
    "        \n",
    "    \n",
    "    elif i == 3:\n",
    "        \n",
    "        print(split_by_punc[n])\n",
    "    \n",
    "    \n",
    "    else:\n",
    "        pass\n",
    "    \n",
    "    \n",
    "    n += 1\n",
    "    "
   ]
  },
  {
   "cell_type": "code",
   "execution_count": null,
   "id": "465fe0ba",
   "metadata": {},
   "outputs": [],
   "source": []
  }
 ],
 "metadata": {
  "kernelspec": {
   "display_name": "Python 3 (ipykernel)",
   "language": "python",
   "name": "python3"
  },
  "language_info": {
   "codemirror_mode": {
    "name": "ipython",
    "version": 3
   },
   "file_extension": ".py",
   "mimetype": "text/x-python",
   "name": "python",
   "nbconvert_exporter": "python",
   "pygments_lexer": "ipython3",
   "version": "3.9.7"
  }
 },
 "nbformat": 4,
 "nbformat_minor": 5
}

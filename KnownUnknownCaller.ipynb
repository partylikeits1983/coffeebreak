{
 "cells": [
  {
   "cell_type": "code",
   "execution_count": 1,
   "id": "written-annual",
   "metadata": {},
   "outputs": [
    {
     "name": "stdout",
     "output_type": "stream",
     "text": [
      "['9453022878', '7080755503', '8167354374', '7433910837', '7895064510']\n"
     ]
    }
   ],
   "source": [
    "# create phone book  \n",
    "import random as r\n",
    "\n",
    "ph_no = []\n",
    "\n",
    "phonebook = []\n",
    "\n",
    "for i in range(5):\n",
    "   \n",
    "    callerNo = \"\"\n",
    "    ph_no = []\n",
    "\n",
    "    # the first number should be in the range of 6 to 9\n",
    "    ph_no.append(r.randint(6, 9))\n",
    "\n",
    "    # the for loop is used to append the other 9 numbers.\n",
    "    # the other 9 numbers can be in the range of 0 to 9.\n",
    "    for i in range(1, 10):\n",
    "        ph_no.append(r.randint(0, 9))\n",
    "\n",
    "    # printing the number\n",
    "    for i in ph_no:\n",
    "        #print(i, end=\"\")\n",
    "\n",
    "        callerNo += str(i)\n",
    "\n",
    "    phonebook.append(callerNo)\n",
    "    \n",
    "print(phonebook)"
   ]
  },
  {
   "cell_type": "code",
   "execution_count": 2,
   "id": "found-tiffany",
   "metadata": {},
   "outputs": [
    {
     "name": "stdout",
     "output_type": "stream",
     "text": [
      "8274974001\n"
     ]
    }
   ],
   "source": [
    "# random caller \n",
    "\n",
    "ph_no = []\n",
    "callerNo = \"\"\n",
    "\n",
    "ph_no.append(r.randint(6, 9))\n",
    "\n",
    "for i in range(1, 10):\n",
    "    ph_no.append(r.randint(0, 9))\n",
    "\n",
    "for i in ph_no:\n",
    "    callerNo += str(i)\n",
    "    \n",
    "print(callerNo)"
   ]
  },
  {
   "cell_type": "code",
   "execution_count": 3,
   "id": "simplified-pharmacy",
   "metadata": {},
   "outputs": [],
   "source": [
    "callerNo = \"8167354374\""
   ]
  },
  {
   "cell_type": "code",
   "execution_count": 4,
   "id": "subjective-scheduling",
   "metadata": {},
   "outputs": [
    {
     "name": "stdout",
     "output_type": "stream",
     "text": [
      "Known Caller\n"
     ]
    }
   ],
   "source": [
    "if callerNo in phonebook:\n",
    "  print(\"Known Caller\")\n",
    "else:\n",
    "  print(\"Unknown Caller\")"
   ]
  },
  {
   "cell_type": "code",
   "execution_count": null,
   "id": "mediterranean-letter",
   "metadata": {},
   "outputs": [],
   "source": []
  }
 ],
 "metadata": {
  "kernelspec": {
   "display_name": "Python 3",
   "language": "python",
   "name": "python3"
  },
  "language_info": {
   "codemirror_mode": {
    "name": "ipython",
    "version": 3
   },
   "file_extension": ".py",
   "mimetype": "text/x-python",
   "name": "python",
   "nbconvert_exporter": "python",
   "pygments_lexer": "ipython3",
   "version": "3.9.2"
  }
 },
 "nbformat": 4,
 "nbformat_minor": 5
}

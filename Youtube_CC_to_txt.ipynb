{
 "cells": [
  {
   "cell_type": "code",
   "execution_count": 1,
   "id": "73f0a5c9",
   "metadata": {},
   "outputs": [],
   "source": [
    "# remove timestamps from YouTube closed captioning"
   ]
  },
  {
   "cell_type": "code",
   "execution_count": 2,
   "id": "ad8bc635",
   "metadata": {},
   "outputs": [],
   "source": [
    "import re"
   ]
  },
  {
   "cell_type": "code",
   "execution_count": 3,
   "id": "6d008ee0",
   "metadata": {},
   "outputs": [],
   "source": [
    "s = \"\"\"\n",
    "One of the biggest myths about the Israel-Palestine conflict is that it's been going on for centuries,\n",
    "00:08\n",
    "that this is all about ancient religious hatreds.\n",
    "00:10\n",
    "In fact, while religion is involved, the conflict is mostly about two groups of people who claim\n",
    "00:15\n",
    "the same land.\n",
    "00:16\n",
    "And it really only goes back about a century, to the early 1900s.\n",
    "00:19\n",
    "Around then, the region along the eastern Mediterranean we now call\n",
    "00:24\n",
    "Israel-Palestine had been under Ottoman rule for centuries.\n",
    "00:27\n",
    "It was religiously diverse, including mostly Muslims and Christians but also a small number\n",
    "00:31\n",
    "of Jews, who lived generally in peace.\n",
    "00:33\n",
    "And it was changing in two important ways.\n",
    "00:36\n",
    "First, more people in the region were developing a sense of being not just ethnic Arabs\n",
    "00:40\n",
    "but Palestinians, a distinct national identity.\n",
    "00:43\n",
    "At the same time, not so far away in Europe, more Jews were joining a movement called Zionism,\n",
    "00:49\n",
    "which said that Judaism was not just a religion but a nationality, one that deserved a nation\n",
    "00:54\n",
    "of its own.\n",
    "00:55\n",
    "And after centuries of persecution, many believed a Jewish state was their only way of\n",
    "00:59\n",
    "safety.\n",
    "01:00\n",
    "And they saw their historic homeland in the Middle East as their best hope for establishing it.\n",
    "01:05\n",
    "In the first decades of the 20th century, tens of thousands of European Jews moved there.\n",
    "01:10\n",
    "After World War One, the Ottoman Empire collapsed, and the British and French Empires carved\n",
    "01:16\n",
    "up the Middle East, with the British taking control of a region it called the British\n",
    "01:19\n",
    "Mandate for Palestine.\n",
    "\n",
    "\"\"\""
   ]
  },
  {
   "cell_type": "code",
   "execution_count": 4,
   "id": "769e351b",
   "metadata": {},
   "outputs": [],
   "source": [
    "x = re.sub(r'[^\\w]', ' ', s)"
   ]
  },
  {
   "cell_type": "code",
   "execution_count": 5,
   "id": "b033e0b6",
   "metadata": {},
   "outputs": [],
   "source": [
    "result = ''.join([i for i in x if not i.isdigit()])"
   ]
  },
  {
   "cell_type": "code",
   "execution_count": 6,
   "id": "ebb83b94",
   "metadata": {},
   "outputs": [
    {
     "name": "stdout",
     "output_type": "stream",
     "text": [
      " One of the biggest myths about the Israel Palestine conflict is that it s been going on for centuries    that this is all about ancient religious hatreds    In fact  while religion is involved  the conflict is mostly about two groups of people who claim   the same land    And it really only goes back about a century  to the early s    Around then  the region along the eastern Mediterranean we now call   Israel Palestine had been under Ottoman rule for centuries    It was religiously diverse  including mostly Muslims and Christians but also a small number   of Jews  who lived generally in peace    And it was changing in two important ways    First  more people in the region were developing a sense of being not just ethnic Arabs   but Palestinians  a distinct national identity    At the same time  not so far away in Europe  more Jews were joining a movement called Zionism    which said that Judaism was not just a religion but a nationality  one that deserved a nation   of its own    And after centuries of persecution  many believed a Jewish state was their only way of   safety    And they saw their historic homeland in the Middle East as their best hope for establishing it    In the first decades of the th century  tens of thousands of European Jews moved there    After World War One  the Ottoman Empire collapsed  and the British and French Empires carved   up the Middle East  with the British taking control of a region it called the British   Mandate for Palestine   \n"
     ]
    }
   ],
   "source": [
    "print(result)"
   ]
  },
  {
   "cell_type": "code",
   "execution_count": null,
   "id": "2fc68e1b",
   "metadata": {},
   "outputs": [],
   "source": []
  }
 ],
 "metadata": {
  "kernelspec": {
   "display_name": "Python 3 (ipykernel)",
   "language": "python",
   "name": "python3"
  },
  "language_info": {
   "codemirror_mode": {
    "name": "ipython",
    "version": 3
   },
   "file_extension": ".py",
   "mimetype": "text/x-python",
   "name": "python",
   "nbconvert_exporter": "python",
   "pygments_lexer": "ipython3",
   "version": "3.9.7"
  }
 },
 "nbformat": 4,
 "nbformat_minor": 5
}

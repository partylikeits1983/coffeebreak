{
 "cells": [
  {
   "cell_type": "code",
   "execution_count": 11,
   "id": "9c9a82a6",
   "metadata": {},
   "outputs": [
    {
     "data": {
      "text/plain": [
       "12.0"
      ]
     },
     "execution_count": 11,
     "metadata": {},
     "output_type": "execute_result"
    }
   ],
   "source": [
    "def calculate(a,b):\n",
    "    \n",
    "    x = 60/a + 60/b \n",
    "    y = 60 / x\n",
    "    return y\n",
    "\n",
    "calculate(20,30)"
   ]
  },
  {
   "cell_type": "code",
   "execution_count": 27,
   "id": "ed711bcd",
   "metadata": {},
   "outputs": [
    {
     "name": "stdout",
     "output_type": "stream",
     "text": [
      "20 30\n"
     ]
    },
    {
     "data": {
      "text/plain": [
       "12.0"
      ]
     },
     "execution_count": 27,
     "metadata": {},
     "output_type": "execute_result"
    }
   ],
   "source": [
    "def values():\n",
    "    x = []\n",
    "    v = input()\n",
    "    vals = v.split(\" \")\n",
    "    for i in vals:\n",
    "        x.append(int(i))\n",
    "    return x\n",
    "\n",
    "def calculate():\n",
    "    x = values()\n",
    "    res = []\n",
    "    y = 0\n",
    "    for i in x:\n",
    "        y += 60/i\n",
    "        \n",
    "    z = 60/y\n",
    "    \n",
    "    return z\n",
    "        \n",
    "\n",
    "calculate()"
   ]
  },
  {
   "cell_type": "code",
   "execution_count": null,
   "id": "64c5de1f",
   "metadata": {},
   "outputs": [],
   "source": []
  },
  {
   "cell_type": "code",
   "execution_count": null,
   "id": "26297b7d",
   "metadata": {},
   "outputs": [],
   "source": []
  },
  {
   "cell_type": "code",
   "execution_count": null,
   "id": "b1b77203",
   "metadata": {},
   "outputs": [],
   "source": []
  }
 ],
 "metadata": {
  "kernelspec": {
   "display_name": "Python 3 (ipykernel)",
   "language": "python",
   "name": "python3"
  },
  "language_info": {
   "codemirror_mode": {
    "name": "ipython",
    "version": 3
   },
   "file_extension": ".py",
   "mimetype": "text/x-python",
   "name": "python",
   "nbconvert_exporter": "python",
   "pygments_lexer": "ipython3",
   "version": "3.9.7"
  }
 },
 "nbformat": 4,
 "nbformat_minor": 5
}
